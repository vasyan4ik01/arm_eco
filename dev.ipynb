{
 "cells": [
  {
   "cell_type": "code",
   "execution_count": 1,
   "id": "e8b6dbb3",
   "metadata": {},
   "outputs": [],
   "source": [
    "import pandas as pd\n",
    "import numpy as np\n",
    "import os\n",
    "import re\n",
    "from datetime import datetime\n",
    "from collections import defaultdict"
   ]
  },
  {
   "cell_type": "code",
   "execution_count": null,
   "id": "0b8998dc",
   "metadata": {},
   "outputs": [],
   "source": [
    "CONFIG_FILE = r'/home/cezar/Рабочий стол/auto_arm/config.xlsx'\n",
    "NORMS_FILE = r'/home/cezar/Рабочий стол/auto_arm/normative.xlsx'\n",
    "DATA_DIR = r'/home/cezar/Рабочий стол/arm_dev'\n",
    "REPORT_DIR = r'/home/cezar/Рабочий стол/auto_arm/reports'\n"
   ]
  },
  {
   "cell_type": "code",
   "execution_count": 4,
   "id": "4ed2fd96",
   "metadata": {},
   "outputs": [],
   "source": [
    "FILE_SETTINGS = {\n",
    "    'Л2': {'header_row': 2, 'data_start_row': 3, 'normative_row': None},\n",
    "    'В2': {'header_row': 2, 'data_start_row': 3, 'normative_row': None},\n",
    "    'Т2': {'header_row': 2, 'data_start_row': 6, 'normative_row': 5},    \n",
    "}"
   ]
  },
  {
   "cell_type": "code",
   "execution_count": null,
   "id": "0a128856",
   "metadata": {},
   "outputs": [],
   "source": [
    "def main():\n",
    "    os.makedirs(REPORT_DIR, exist_ok=True)\n",
    "    "
   ]
  }
 ],
 "metadata": {
  "kernelspec": {
   "display_name": ".venv",
   "language": "python",
   "name": "python3"
  },
  "language_info": {
   "codemirror_mode": {
    "name": "ipython",
    "version": 3
   },
   "file_extension": ".py",
   "mimetype": "text/x-python",
   "name": "python",
   "nbconvert_exporter": "python",
   "pygments_lexer": "ipython3",
   "version": "3.12.3"
  }
 },
 "nbformat": 4,
 "nbformat_minor": 5
}
